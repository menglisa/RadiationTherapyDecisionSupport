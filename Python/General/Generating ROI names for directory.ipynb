{
 "cells": [
  {
   "cell_type": "markdown",
   "metadata": {},
   "source": [
    "# Generating ROI Names for Database\n",
    "\n",
    "We want to parse each of the historical data files, and determine which OARs are present based off the corresponding structureset file. "
   ]
  },
  {
   "cell_type": "code",
   "execution_count": 1,
   "metadata": {},
   "outputs": [],
   "source": [
    "import dicom\n",
    "import os\n",
    "import sys\n",
    "from extractROINames import preprocess_roi_name_ucla"
   ]
  },
  {
   "cell_type": "code",
   "execution_count": 8,
   "metadata": {},
   "outputs": [
    {
     "name": "stdout",
     "output_type": "stream",
     "text": [
      "ALL Unique names:['anus', 'bladder', 'bladder opti', 'body', 'bones', 'combined', 'femur left', 'femur right', 'fiducials', 'hot shell', 'left femoral head', 'ln', 'penile bulb', 'prostate', 'prostate bed', 'prostate ck', 'prostate nn', 'ptv', 'ptv 72gy', \"ptv&ln's 50.4gy\", 'ptv140gy', 'ptv235gy', 'ptv330gy', 'rectum', 'rectum opti', 'rectum0.5cmptv', 'rectum1.0cmptv', 'right femoral head', 'ring', 'ring1.5cm4.5cm', 'seed1', 'seed2', 'seed3', 'seminal vesicle', 'small bowel', 'sv remnant', 'ts', 'ts bladder', 'ts urethra', 'urethra', 'zptv2opti', 'zptv3opti']\n",
      "do cases with ptv match total cases?True\n"
     ]
    }
   ],
   "source": [
    "BASE_DIR = os.path.dirname(os.path.dirname(os.getcwd())) + \"/data/\"\n",
    "\n",
    "cases = {\"5\", \"6\", \"7\", \"8\", \"9\", \"28\", \"29\", \"30\", \"31\", \"32\"}\n",
    "names = set()\n",
    "cases_with_ptv = 0\n",
    "for case in cases:\n",
    "    study = \"UCLA_PR_\" + case\n",
    "    x = dicom.read_file(BASE_DIR + study + \"/structureset.dcm\")\n",
    "    \n",
    "    # Structure set ROI sequence\n",
    "    # Preprocessing\n",
    "\n",
    "    case_ptv = False\n",
    "    for seq in x.StructureSetROISequence:\n",
    "        roi_name = preprocess_roi_name_ucla(seq.ROIName)\n",
    "        \n",
    "        names.add(roi_name)\n",
    "        \n",
    "        if \"ptv\" in roi_name:\n",
    "            case_ptv = True\n",
    "    \n",
    "    if case_ptv:\n",
    "        cases_with_ptv += 1\n",
    "\n",
    "names = sorted(names)\n",
    "print(\"ALL Unique names:\" + str(names))\n",
    "print(\"do cases with ptv match total cases?\" + str(len(cases) == cases_with_ptv))"
   ]
  },
  {
   "cell_type": "code",
   "execution_count": null,
   "metadata": {},
   "outputs": [],
   "source": []
  }
 ],
 "metadata": {
  "kernelspec": {
   "display_name": "Python 3",
   "language": "python",
   "name": "python3"
  },
  "language_info": {
   "codemirror_mode": {
    "name": "ipython",
    "version": 3
   },
   "file_extension": ".py",
   "mimetype": "text/x-python",
   "name": "python",
   "nbconvert_exporter": "python",
   "pygments_lexer": "ipython3",
   "version": "3.5.2"
  }
 },
 "nbformat": 4,
 "nbformat_minor": 2
}
